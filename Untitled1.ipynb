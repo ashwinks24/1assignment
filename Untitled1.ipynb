{
  "metadata": {
    "kernelspec": {
      "name": "python",
      "display_name": "Python (Pyodide)",
      "language": "python"
    },
    "language_info": {
      "codemirror_mode": {
        "name": "python",
        "version": 3
      },
      "file_extension": ".py",
      "mimetype": "text/x-python",
      "name": "python",
      "nbconvert_exporter": "python",
      "pygments_lexer": "ipython3",
      "version": "3.8"
    }
  },
  "nbformat_minor": 4,
  "nbformat": 4,
  "cells": [
    {
      "cell_type": "code",
      "source": "QUESTION 1 OF ASSIGNMENT",
      "metadata": {
        "trusted": true
      },
      "outputs": [],
      "execution_count": null
    },
    {
      "cell_type": "code",
      "source": "# Import the pandas library\nimport pandas as ps\n\n# Load the dataset from a CSV file into a pandas DataFrame\ndataframe = ps.read_csv('/content/sample_data/california_housing_train.csv')\n\n# Display the first 5 rows of the dataset\nprint(\"The first 5 rows of the dataset:\")\nprint(dataframe.head(5))  # Shows the top 5 rows\n\n# Display the last 10 rows of the dataset\nprint(\"The last 10 rows of the dataset:\")\nprint(dataframe.tail(10))  # Shows the bottom 10 rows \n\n# Display the statistical summary of the dataset\nprint(\"Statistical summary of the dataset:\")\nprint(dataframe.describe()) \n\n# Find unique values in the 'total_bedrooms' column\nUnique_Bedroom = dataframe[\"total_bedrooms\"].unique() \nNum_Unique_Bedroom = len(Unique_Bedroom)  # Count the number of unique values\nprint(f\"Unique values in 'total_bedrooms' column: {Unique_Bedroom}\")\nprint(f\"Number of distinct values in 'total_bedrooms': {Num_Unique_Bedroom}\")\n\n# Calculate the ratio of total_bedrooms to total_rooms and create a new column\nbed_per_room = dataframe['total_bedrooms'] / dataframe['total_rooms']  \ndataframe['total_bedrooms_per_total_rooms'] = bed_per_room  # Add it as a new column in the DataFrame\n\n# Calculate and display the mean and standard deviation of the new column\nmean_bedroom_per_room = dataframe['total_bedrooms_per_total_rooms'].mean() \nstd_deviation_bedroom_per_room = dataframe['total_bedrooms_per_total_rooms'].std()  \nprint(f\"Mean of 'total_bedrooms_per_total_rooms': {mean_bedroom_per_room}\")\nprint(f\"Standard deviation of 'total_bedrooms_per_total_rooms': {std_deviation_bedroom_per_room}\")\n\n# Filter rows where 'median_income' is greater than 5\nfiltered_income = dataframe[dataframe['median_income'] > 5] \nprint(f\"Number of rows where 'median_income' > 5: {len(filtered_income)} rows\")\nprint(filtered_income.head())  # Display the first 5 rows \n\n# Filter rows where 'total_rooms' > 10000 and 'median_house_value' < 150000\nfiltered_subset = dataframe[(dataframe['total_rooms'] > 10000) & (dataframe['median_house_value'] < 150000)] \n \nprint(f\"Subset where 'total_rooms' > 10000 and 'median_house_value' < 150000: {len(filtered_subset)} rows\")\nprint(filtered_subset.head())  # Display the first 5 rows\n\n# Step 5: Export Modified Data\n# Save the modified DataFrame (with the new column) to a new CSV file\nmodified_file_path = '/content/sample_data/california_housing_modified.csv'\ndataframe.to_csv(modified_file_path, index=False)\nprint(f\"\\nModified data has been saved to {modified_file_path}\")  ",
      "metadata": {
        "trusted": true
      },
      "outputs": [],
      "execution_count": null
    },
    {
      "cell_type": "code",
      "source": "QUESTION 2 OF ASSIGNMENT\n",
      "metadata": {
        "trusted": true
      },
      "outputs": [],
      "execution_count": null
    },
    {
      "cell_type": "code",
      "source": "import numpy as nm  # Importing the numpy library\n\n# 1D Array creation and indexing\n_1darray = nm.arange(1, 21)  # 1D array with values from 1 to 20\nprint(\"1D Array (1 to 20):\", _1darray)\n\n# taking even numbers using slicing\neven_num = _1darray[1::2]  \nprint(\"Even numbers from the array:\", even_num)\n\n# 2D Array creation\n_2darray = nm.random.randint(10, 101, size=(5, 4))  # it creates a 5x4 array with random integers between 10 and 100\nprint(\"2D Array (5x4) with random integers between 10 and 100:\\n\", _2darray)\n\n# make a 3x2 subarray\nsub_array = _2darray[:3, :2]  # Select the first 3 rows and first 2 columns\nprint(\"3x2 Subarray (first 3 rows, first 2 columns):\", sub_array)\n\n# Array manipulation\nreshaped_arr = _1darray[:20].reshape(4, 5)  # Reshape the first 20 elements of the 1D array into a 4x5 array\nprint(\"Reshaped Array (4x5)::\", reshaped_arr)\n\nflattened_arr = reshaped_arr.flatten()  # Flatten the 4x5 array back into a 1D array\nprint(\"Flattened Array (1D):\", flattened_arr)\n\n# Create a second 2D array for matrix multiplication\n_2darr_b = nm.random.randint(10, 101, size=(5, 3))  # Generate a 5x3 array with random integers\nprint(\"Second 2D Array (5x3) for matrix multiplication:\\n\", _2darr_b)\n\n# Perform matrix multiplication\nmatrix_product = nm.dot(reshaped_arr, _2darr_b)  # Matrix multiplication of a 4x5 and 5x3 array, resulting in a 4x3 array\nprint(\"Matrix Multiplication Result::\", matrix_product)\n\n# Boolean and fancy indexing\nrandom_arr = nm.random.randint(0, 101, size=50)  # Generate a random array of 50 integers between 0 and 100\nprint(\"\\nRandom Array of 50 Integers:\\n\", random_arr)\n\n# Filter values greater than 50 using boolean indexing\ngreater_than_50 = random_arr[random_arr > 50]  # Select elements greater than 50\nprint(\"Values greater than 50:\", greater_than_50)\n\n# Fancy indexing to extract specific elements\nindices = [5, 10, 15, 20, 25]  # List of indices to extract\nfancy_elements = random_arr[indices]  # Select elements at specified indices\nprint(\"Elements at specific indices (5, 10, 15, 20, 25):\", fancy_elements)\n\n# Statistical operations\nmean_col = nm.mean(_2darray, axis=0)  #  it will Compute the mean along each column\nmax_col = nm.max(_2darray, axis=0)  # it will Compute the maximum value along each column\nsum_col = nm.sum(_2darray, axis=0)  # it will Compute the sum along each column\n\nprint(\"Mean along each column::\", mean_col)\nprint(\"Max along each column::\", max_col)\nprint(\"Sum along each column::\", sum_col)\n\n# Filter elements greater than the column-wise mean\nVALUE= _2darray > mean_col  # Create a VALUE for elements greater than the column mean\nfiltered_array = _2darray[VALUE]  # Apply the VALUE to filter elements\nprint(\"Filtered Array (elements greater than column mean):\", filtered_array)\n",
      "metadata": {
        "trusted": true
      },
      "outputs": [],
      "execution_count": null
    },
    {
      "cell_type": "code",
      "source": "Question 3 of assignment",
      "metadata": {
        "trusted": true
      },
      "outputs": [],
      "execution_count": null
    },
    {
      "cell_type": "code",
      "source": "\n# Q1: Fibonacci Sequence Generation\n\ndef fibonacci(n):\n    a = 0  \n    b = 1  \n    # Handle the case where n is 1\n    if (n == 1):\n        print(a)    \n    # Handle invalid input (n <= 0)\n    elif (n <= 0):\n        print(\"invalid\")\n    # For valid input where n > 1\n    else:\n        print(a)  \n        print(b)  \n        \n        for i in range(2, n):\n            c = a + b  # Calculate the next term in the sequence\n            a = b  # Update a to the previous b\n            b = c  # Update b to the current term\n            print(c)  \n\n# Call the function with n = -5 (invalid case)\nfibonacci(-5)\n\n\n# Q2: Multiple Problems Combined\n\n\n# (a) FizzBuzz Problem\n# Loop through numbers from 1 to 50\nfor i in range(1, 51):\n    # If divisible by 3 but not 5, print \"Fizz\"\n    if (i % 3 == 0 and i % 5 != 0):\n        print(\"\\\"Fizz\\\"\", i)\n    \n    # If divisible by 5 but not 3, print \"Buzz\"\n    elif (i % 5 == 0 and i % 3 != 0):\n        print(\"\\\"Buzz\\\"\", i)\n    \n    # If divisible by both 3 and 5 (15), print \"FizzBuzz\"\n    elif (i % 15 == 0):\n        print(\"\\\"FizzBuzz\\\"\", i)\n\n\n#VARIABLE LENGTH ARGUEMENT\n\n  # (b) Calculating the Median of Input Data\n\nimport statistics  # Importing the statistics library for calculating the median\n\n\nn = int(input(\"Enter the number of entries you want: \"))\n\nlst = []  \n\n# Loop to accept 'n' entries from the user\nfor i in range(1, n + 1):\n    entry = int(input(\"Enter the numbers here: \"))  \n    lst.append(entry)  # Append entry\n    print(\"Successfully entered the data no.:\", i)  \n\nprint(\"All data entered.\")  \nprint(\"The data you entered are:\", lst) \n\n# Calculate the median of the entered data\nmedian = statistics.median(lst)\nprint(\"The median of the given data is:\", median)\n\n# (c) Calculating the Average of Input Data\nn = int(input(\"Enter the number of entries you want: \"))\n\nlst = [] \n\n# Loop to accept 'n' entries from the user\nfor i in range(1, n + 1):\n    entry = int(input(\"Enter the numbers here: \"))  \n    lst.append(entry)  # Append the number \n    print(\"Successfully entered the data no.:\", i) \n\nprint(\"All data entered.\")  \nprint(\"The data you entered are:\", lst) \n\n# Calculate the average of the entered data\navg = sum(lst) / len(lst)\nprint(\"The average of the numbers you entered is:\", avg) \n\n\n\n# (d) Division with exception handling\n\n\n# Define a function for division with exception handling\ndef divide(arg1, arg2):\n    try:\n        return arg1 / arg2  # Attempt to divide the two arguments\n    except ZeroDivisionError:\n        print(\"You are dividing by zero...\")  # Handle division by zero\n    except TypeError:\n        print(\"You are entering a datatype other than int\")  # Handle type error\n    except:\n        print(\"Unexpected error occurred.\")  # Handle any other unexpected errors\n\n# Test the divide function with arguments 2 and 0 (division by zero case)\nprint(divide(2, 0))",
      "metadata": {
        "trusted": true
      },
      "outputs": [],
      "execution_count": null
    },
    {
      "cell_type": "code",
      "source": "QUESTION 4 OF ASSIGNMENT",
      "metadata": {
        "trusted": true
      },
      "outputs": [],
      "execution_count": null
    },
    {
      "cell_type": "code",
      "source": "# Import the numpy library \nimport numpy as nm\n\n# Create a random 3-dimensional array with shape (3, 2, 3)\n_3darray = nm.random.random((3, 2, 3))  # Generates random numbers between 0 and 1\nprint(_3darray)  # Print 3D array\n\n# Swap axes 1 and 2 of the 3D array\nswap_3darray = nm.swapaxes(_3darray, 1, 2)  #  axis 1 and axis 2 are swapped\nprint(\"Swapped:\", swap_3darray)  # Print the  array after axis swap\n\n# Compute the sum of the 3D array along axis 1\nsum_alon_axis = nm.sum(_3darray, axis=1) \n\nprint(\"Sum along axis 1:\", sum_alon_axis)  # result of the sum operation\n\n# Create a random 2-dimensional array with shape (4, 5)\n_2darray = nm.random.random((4, 5))  # Generates random numbers between 0 and 1 for a 4x5 array\n\n# Create a random 1-dimensional vector with 5 elements\nvec = nm.random.random(5)  # Generates a 1D array with 5 random numbers\n\n# Add the vector to each row of the 2D array using broadcasting\n_2dResult = _2darray + vec  # Adds\nprint(\"Result after broadcasting addition:\", _2dResult) ",
      "metadata": {
        "trusted": true
      },
      "outputs": [],
      "execution_count": null
    }
  ]
}